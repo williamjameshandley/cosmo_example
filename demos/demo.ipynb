{
 "cells": [
  {
   "cell_type": "markdown",
   "metadata": {},
   "source": [
    "Download some example data from github"
   ]
  },
  {
   "cell_type": "code",
   "execution_count": null,
   "metadata": {},
   "outputs": [],
   "source": [
    "import requests\n",
    "import tarfile\n",
    "\n",
    "for filename in [\"plikHM_TTTEEE_lowl_lowE_lensing.tar.gz\",\"plikHM_TTTEEE_lowl_lowE_lensing_NS.tar.gz\"]:\n",
    "    github_url = \"https://github.com/williamjameshandley/cosmo_example/raw/master/\"\n",
    "    url = github_url + filename\n",
    "    open('data/' + filename, 'wb').write(requests.get(url).content)\n",
    "    tarfile.open('data/' + filename).extractall()"
   ]
  },
  {
   "cell_type": "markdown",
   "metadata": {},
   "source": [
    "This downloaded the PLA chains for the planck baseline cosmology"
   ]
  },
  {
   "cell_type": "code",
   "execution_count": null,
   "metadata": {},
   "outputs": [],
   "source": [
    "import os\n",
    "os.listdir('data/plikHM_TTTEEE_lowl_lowE_lensing')"
   ]
  },
  {
   "cell_type": "markdown",
   "metadata": {},
   "source": [
    "And the equivalent nested sampling chains"
   ]
  },
  {
   "cell_type": "code",
   "execution_count": null,
   "metadata": {},
   "outputs": [],
   "source": [
    "os.listdir('data/plikHM_TTTEEE_lowl_lowE_lensing_NS')"
   ]
  },
  {
   "cell_type": "markdown",
   "metadata": {},
   "source": [
    "Now import anesthetic and load the MCMC samples"
   ]
  },
  {
   "cell_type": "code",
   "execution_count": null,
   "metadata": {},
   "outputs": [],
   "source": [
    "from anesthetic import MCMCSamples\n",
    "mcmc = MCMCSamples.read('plikHM_TTTEEE_lowl_lowE_lensing/base_plikHM_TTTEEE_lowl_lowE_lensing')"
   ]
  },
  {
   "cell_type": "markdown",
   "metadata": {},
   "source": [
    "You can see that these are stored as a pandas array"
   ]
  },
  {
   "cell_type": "code",
   "execution_count": null,
   "metadata": {},
   "outputs": [],
   "source": [
    "print(mcmc[:6])"
   ]
  },
  {
   "cell_type": "markdown",
   "metadata": {},
   "source": [
    "We have plotting tools for 1D plots ..."
   ]
  },
  {
   "cell_type": "code",
   "execution_count": null,
   "metadata": {},
   "outputs": [],
   "source": [
    "fig, axes = mcmc.plot_1d('omegabh2');"
   ]
  },
  {
   "cell_type": "markdown",
   "metadata": {},
   "source": [
    "... multiple 1D plots ..."
   ]
  },
  {
   "cell_type": "code",
   "execution_count": null,
   "metadata": {},
   "outputs": [],
   "source": [
    "fig, axes = mcmc.plot_1d(['omegabh2','omegach2','H0','tau','logA','ns']);"
   ]
  },
  {
   "cell_type": "markdown",
   "metadata": {},
   "source": [
    "... triangle plots (with the equivalent scatter plot filling up the left hand side) ..."
   ]
  },
  {
   "cell_type": "code",
   "execution_count": null,
   "metadata": {},
   "outputs": [],
   "source": [
    "mcmc.plot_2d(['omegabh2','omegach2','H0'], types=['kde']);"
   ]
  },
  {
   "cell_type": "markdown",
   "metadata": {},
   "source": [
    "... triangle plots (with the equivalent scatter plot filling up the left hand side) ..."
   ]
  },
  {
   "cell_type": "code",
   "execution_count": null,
   "metadata": {},
   "outputs": [],
   "source": [
    "mcmc.plot_2d(['omegabh2','omegach2','H0']);"
   ]
  },
  {
   "cell_type": "markdown",
   "metadata": {},
   "source": [
    "... and rectangle plots."
   ]
  },
  {
   "cell_type": "code",
   "execution_count": null,
   "metadata": {},
   "outputs": [],
   "source": [
    "mcmc.plot_2d([['omegabh2','omegach2','H0'], ['logA', 'ns']]);"
   ]
  },
  {
   "cell_type": "markdown",
   "metadata": {},
   "source": [
    "Rectangle plots are pretty flexible with what they can do:"
   ]
  },
  {
   "cell_type": "code",
   "execution_count": null,
   "metadata": {},
   "outputs": [],
   "source": [
    "mcmc.plot_2d([['omegabh2','omegach2','H0'], ['H0','omegach2']]);"
   ]
  },
  {
   "cell_type": "markdown",
   "metadata": {},
   "source": [
    "More importantly, since this is a pandas array, we can redefine new parameters with relative ease.\n",
    " For example, the default cosmoMC setup does not include omegab, only omegabh2:"
   ]
  },
  {
   "cell_type": "code",
   "execution_count": null,
   "metadata": {},
   "outputs": [],
   "source": [
    "'omegab' in mcmc"
   ]
  },
  {
   "cell_type": "markdown",
   "metadata": {},
   "source": [
    "However, this is pretty trivial to recompute:"
   ]
  },
  {
   "cell_type": "code",
   "execution_count": null,
   "metadata": {},
   "outputs": [],
   "source": [
    "h = mcmc['H0']/100\n",
    "mcmc['omegab'] = mcmc['omegabh2']/h**2\n",
    "mcmc.tex['omegab'] = '$\\Omega_b$'\n",
    "mcmc.plot_1d('omegab');"
   ]
  },
  {
   "cell_type": "markdown",
   "metadata": {},
   "source": [
    "Anethestic really comes to the fore for nested sampling. We can do all of\n",
    " the above, and more with the power that NS chains provide"
   ]
  },
  {
   "cell_type": "code",
   "execution_count": null,
   "metadata": {},
   "outputs": [],
   "source": [
    "from anesthetic import NestedSamples\n",
    "nested = NestedSamples.read('plikHM_TTTEEE_lowl_lowE_lensing_NS/NS_plikHM_TTTEEE_lowl_lowE_lensing')\n",
    "nested.limits\n",
    "\n",
    "from anesthetic.read.nested import NestedReader\n",
    "reader = NestedReader('plikHM_TTTEEE_lowl_lowE_lensing_NS/NS_plikHM_TTTEEE_lowl_lowE_lensing')\n",
    "reader.limits()"
   ]
  },
  {
   "cell_type": "markdown",
   "metadata": {},
   "source": [
    "We can infer the evidence, KL divergence and Bayesian model dimensionality:"
   ]
  },
  {
   "cell_type": "code",
   "execution_count": null,
   "metadata": {},
   "outputs": [],
   "source": [
    "ns_output = nested.ns_output(200)\n",
    "print(ns_output[:6])"
   ]
  },
  {
   "cell_type": "markdown",
   "metadata": {},
   "source": [
    "This is a set of MCMC samples that may be plotted as usual:"
   ]
  },
  {
   "cell_type": "code",
   "execution_count": null,
   "metadata": {},
   "outputs": [],
   "source": [
    "ns_output.plot_1d();"
   ]
  },
  {
   "cell_type": "markdown",
   "metadata": {},
   "source": [
    "We can also inspect the correlation between these inferences:"
   ]
  },
  {
   "cell_type": "code",
   "execution_count": null,
   "metadata": {},
   "outputs": [],
   "source": [
    "ns_output.plot_2d(['logZ','D']);"
   ]
  },
  {
   "cell_type": "markdown",
   "metadata": {},
   "source": [
    "Here is a comparison of the base and NS output"
   ]
  },
  {
   "cell_type": "code",
   "execution_count": null,
   "metadata": {},
   "outputs": [],
   "source": [
    "h = nested['H0']/100\n",
    "nested['omegab'] = nested['omegabh2']/h**2\n",
    "nested.tex['omegab'] = '$\\Omega_b$'\n",
    "\n",
    "fig, axes = mcmc.plot_2d(['sigma8','omegab'])\n",
    "nested.plot_2d(axes=axes);"
   ]
  },
  {
   "cell_type": "markdown",
   "metadata": {},
   "source": [
    "With nested samples, we can plot the prior (or any temperature), by\n",
    " passing beta=0"
   ]
  },
  {
   "cell_type": "code",
   "execution_count": null,
   "metadata": {},
   "outputs": [],
   "source": [
    "from anesthetic import get_legend_proxy\n",
    "\n",
    "fig, axes = nested.plot_2d(['ns','tau'], beta=0)\n",
    "nested.plot_2d(axes=axes)\n",
    "proxy = get_legend_proxy(fig)\n",
    "fig.legend(proxy, ['prior', 'posterior'])"
   ]
  },
  {
   "cell_type": "markdown",
   "metadata": {},
   "source": [
    "We can also set up an interactive plot, which allows us to replay a nested\n",
    " sampling run after the fact."
   ]
  },
  {
   "cell_type": "code",
   "execution_count": null,
   "metadata": {},
   "outputs": [],
   "source": [
    "nested.gui()"
   ]
  }
 ],
 "metadata": {},
 "nbformat": 4,
 "nbformat_minor": 2
}
